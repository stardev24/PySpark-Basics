{
 "cells": [
  {
   "cell_type": "markdown",
   "metadata": {},
   "source": [
    "### Pyspark Basics-3\n",
    "- Filter conditions\n",
    "- Group By and Aggregation"
   ]
  },
  {
   "cell_type": "code",
   "execution_count": 21,
   "metadata": {},
   "outputs": [],
   "source": [
    "from pyspark.sql import SparkSession\n",
    "spark = SparkSession.builder.appName('SparkDemo').getOrCreate()"
   ]
  },
  {
   "cell_type": "code",
   "execution_count": 22,
   "metadata": {},
   "outputs": [],
   "source": [
    "# read csv with options\n",
    "df_pyspark=spark.read.csv('test2.csv',header=True,inferSchema=True)\n"
   ]
  },
  {
   "cell_type": "code",
   "execution_count": 23,
   "metadata": {},
   "outputs": [
    {
     "name": "stdout",
     "output_type": "stream",
     "text": [
      "+------+----+--------+----------+----------+\n",
      "|  Name| Age| Company|SampleRank|Department|\n",
      "+------+----+--------+----------+----------+\n",
      "|   Sai|  30| ABC Inc|         1|  Big Data|\n",
      "| Kumar|  29| DEF INC|         2|    Python|\n",
      "|Chetan|  33|Cool INC|      null|    Python|\n",
      "| James|  26|    null|         4|  Big Data|\n",
      "|  Bond|null|     PQR|         5| Fullstack|\n",
      "|  null|  22|    null|      null|  Big Data|\n",
      "|Cruise|  44|    null|         7|     Cloud|\n",
      "|  John|null|Test INC|         8|     Cloud|\n",
      "|   Doe|  20|    null|         9| Fullstack|\n",
      "+------+----+--------+----------+----------+\n",
      "\n"
     ]
    }
   ],
   "source": [
    "df_pyspark.show()"
   ]
  },
  {
   "cell_type": "code",
   "execution_count": 24,
   "metadata": {},
   "outputs": [
    {
     "name": "stdout",
     "output_type": "stream",
     "text": [
      "+-----+---+-------+----------+----------+\n",
      "| Name|Age|Company|SampleRank|Department|\n",
      "+-----+---+-------+----------+----------+\n",
      "|  Sai| 30|ABC Inc|         1|  Big Data|\n",
      "|Kumar| 29|DEF INC|         2|    Python|\n",
      "|James| 26|   null|         4|  Big Data|\n",
      "+-----+---+-------+----------+----------+\n",
      "\n"
     ]
    }
   ],
   "source": [
    "df_pyspark.filter('SampleRank<5').show()"
   ]
  },
  {
   "cell_type": "code",
   "execution_count": 25,
   "metadata": {},
   "outputs": [
    {
     "name": "stdout",
     "output_type": "stream",
     "text": [
      "+-----+----+-------+----------+----------+\n",
      "| Name| Age|Company|SampleRank|Department|\n",
      "+-----+----+-------+----------+----------+\n",
      "|James|  26|   null|         4|  Big Data|\n",
      "| Bond|null|    PQR|         5| Fullstack|\n",
      "+-----+----+-------+----------+----------+\n",
      "\n"
     ]
    }
   ],
   "source": [
    "# AND condition\n",
    "df_pyspark.filter((df_pyspark['SampleRank']<7) & (df_pyspark['SampleRank']>2)).show()"
   ]
  },
  {
   "cell_type": "code",
   "execution_count": 32,
   "metadata": {},
   "outputs": [
    {
     "name": "stdout",
     "output_type": "stream",
     "text": [
      "+-----+---+-------+----------+----------+\n",
      "| Name|Age|Company|SampleRank|Department|\n",
      "+-----+---+-------+----------+----------+\n",
      "|Kumar| 29|DEF INC|         2|    Python|\n",
      "|James| 26|   null|         4|  Big Data|\n",
      "+-----+---+-------+----------+----------+\n",
      "\n"
     ]
    }
   ],
   "source": [
    "# AND with multiple columns\n",
    "df_pyspark.filter((df_pyspark['SampleRank']<7) & (df_pyspark['Age']<30)).show()"
   ]
  },
  {
   "cell_type": "code",
   "execution_count": 27,
   "metadata": {},
   "outputs": [
    {
     "name": "stdout",
     "output_type": "stream",
     "text": [
      "+-----+----+-------+----------+----------+\n",
      "| Name| Age|Company|SampleRank|Department|\n",
      "+-----+----+-------+----------+----------+\n",
      "|  Sai|  30|ABC Inc|         1|  Big Data|\n",
      "|Kumar|  29|DEF INC|         2|    Python|\n",
      "|James|  26|   null|         4|  Big Data|\n",
      "| Bond|null|    PQR|         5| Fullstack|\n",
      "| null|  22|   null|      null|  Big Data|\n",
      "|  Doe|  20|   null|         9| Fullstack|\n",
      "+-----+----+-------+----------+----------+\n",
      "\n"
     ]
    }
   ],
   "source": [
    "# OR with multiple columns\n",
    "df_pyspark.filter((df_pyspark['SampleRank']<7) | (df_pyspark['Age']<30)).show()"
   ]
  },
  {
   "cell_type": "code",
   "execution_count": 28,
   "metadata": {},
   "outputs": [
    {
     "name": "stdout",
     "output_type": "stream",
     "text": [
      "+------+----+--------+----------+----------+\n",
      "|  Name| Age| Company|SampleRank|Department|\n",
      "+------+----+--------+----------+----------+\n",
      "|Cruise|  44|    null|         7|     Cloud|\n",
      "|  John|null|Test INC|         8|     Cloud|\n",
      "|   Doe|  20|    null|         9| Fullstack|\n",
      "+------+----+--------+----------+----------+\n",
      "\n"
     ]
    }
   ],
   "source": [
    "# NOT condition\n",
    "df_pyspark.filter(~(df_pyspark['SampleRank']<7)).show()"
   ]
  },
  {
   "cell_type": "code",
   "execution_count": 35,
   "metadata": {},
   "outputs": [
    {
     "name": "stdout",
     "output_type": "stream",
     "text": [
      "+----------+-----+\n",
      "|Department|count|\n",
      "+----------+-----+\n",
      "| Fullstack|    2|\n",
      "|  Big Data|    3|\n",
      "|    Python|    2|\n",
      "|     Cloud|    2|\n",
      "+----------+-----+\n",
      "\n"
     ]
    }
   ],
   "source": [
    "# Group By\n",
    "df_pyspark.groupBy('Department').count().show()"
   ]
  },
  {
   "cell_type": "code",
   "execution_count": null,
   "metadata": {},
   "outputs": [],
   "source": []
  },
  {
   "cell_type": "code",
   "execution_count": null,
   "metadata": {},
   "outputs": [],
   "source": []
  }
 ],
 "metadata": {
  "kernelspec": {
   "display_name": "Python 3",
   "language": "python",
   "name": "python3"
  },
  "language_info": {
   "codemirror_mode": {
    "name": "ipython",
    "version": 3
   },
   "file_extension": ".py",
   "mimetype": "text/x-python",
   "name": "python",
   "nbconvert_exporter": "python",
   "pygments_lexer": "ipython3",
   "version": "3.8.10"
  }
 },
 "nbformat": 4,
 "nbformat_minor": 4
}
