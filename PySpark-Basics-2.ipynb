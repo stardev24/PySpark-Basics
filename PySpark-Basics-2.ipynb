{
 "cells": [
  {
   "cell_type": "markdown",
   "metadata": {},
   "source": [
    "#### Testing\n",
    "- Handling missing values\n",
    "- Conditional drop of rows\n",
    "- Filling the missing values"
   ]
  },
  {
   "cell_type": "code",
   "execution_count": 67,
   "metadata": {},
   "outputs": [],
   "source": [
    "import pyspark"
   ]
  },
  {
   "cell_type": "code",
   "execution_count": 68,
   "metadata": {},
   "outputs": [],
   "source": [
    "from pyspark.sql import SparkSession"
   ]
  },
  {
   "cell_type": "code",
   "execution_count": 69,
   "metadata": {},
   "outputs": [],
   "source": [
    "spark = SparkSession.builder.appName('SparkDemo').getOrCreate()"
   ]
  },
  {
   "cell_type": "code",
   "execution_count": 70,
   "metadata": {},
   "outputs": [],
   "source": [
    "df_pyspark=spark.read.csv('test2.csv',header=True,inferSchema=True)"
   ]
  },
  {
   "cell_type": "code",
   "execution_count": 71,
   "metadata": {},
   "outputs": [
    {
     "name": "stdout",
     "output_type": "stream",
     "text": [
      "+------+----+--------+----------+\n",
      "|  Name| Age| Company|SampleRank|\n",
      "+------+----+--------+----------+\n",
      "|   Sai|  30| ABC Inc|         1|\n",
      "| Kumar|  29| DEF INC|         2|\n",
      "|Chetan|  33|Cool INC|         3|\n",
      "| James|  26|    null|         4|\n",
      "|  Bond|null|     PQR|         5|\n",
      "|  null|  22|    null|         6|\n",
      "|Cruise|  44|    null|         7|\n",
      "|  John|null|Test INC|         8|\n",
      "|   Doe|  20|    null|         9|\n",
      "+------+----+--------+----------+\n",
      "\n"
     ]
    }
   ],
   "source": [
    "df_pyspark.show()"
   ]
  },
  {
   "cell_type": "code",
   "execution_count": 72,
   "metadata": {},
   "outputs": [
    {
     "name": "stdout",
     "output_type": "stream",
     "text": [
      "+------+---+--------+----------+\n",
      "|  Name|Age| Company|SampleRank|\n",
      "+------+---+--------+----------+\n",
      "|   Sai| 30| ABC Inc|         1|\n",
      "| Kumar| 29| DEF INC|         2|\n",
      "|Chetan| 33|Cool INC|         3|\n",
      "+------+---+--------+----------+\n",
      "\n"
     ]
    }
   ],
   "source": [
    "# drop rows with null values\n",
    "df_pyspark.na.drop().show()"
   ]
  },
  {
   "cell_type": "code",
   "execution_count": 73,
   "metadata": {},
   "outputs": [
    {
     "name": "stdout",
     "output_type": "stream",
     "text": [
      "+------+----+--------+----------+\n",
      "|  Name| Age| Company|SampleRank|\n",
      "+------+----+--------+----------+\n",
      "|   Sai|  30| ABC Inc|         1|\n",
      "| Kumar|  29| DEF INC|         2|\n",
      "|Chetan|  33|Cool INC|         3|\n",
      "| James|  26|    null|         4|\n",
      "|  Bond|null|     PQR|         5|\n",
      "|  null|  22|    null|         6|\n",
      "|Cruise|  44|    null|         7|\n",
      "|  John|null|Test INC|         8|\n",
      "|   Doe|  20|    null|         9|\n",
      "+------+----+--------+----------+\n",
      "\n"
     ]
    }
   ],
   "source": [
    "# conditional drop with 'how'\n",
    "df_pyspark.na.drop(how='all').show()"
   ]
  },
  {
   "cell_type": "code",
   "execution_count": 74,
   "metadata": {},
   "outputs": [
    {
     "name": "stdout",
     "output_type": "stream",
     "text": [
      "+------+----+--------+----------+\n",
      "|  Name| Age| Company|SampleRank|\n",
      "+------+----+--------+----------+\n",
      "|   Sai|  30| ABC Inc|         1|\n",
      "| Kumar|  29| DEF INC|         2|\n",
      "|Chetan|  33|Cool INC|         3|\n",
      "| James|  26|    null|         4|\n",
      "|  Bond|null|     PQR|         5|\n",
      "|  null|  22|    null|         6|\n",
      "|Cruise|  44|    null|         7|\n",
      "|  John|null|Test INC|         8|\n",
      "|   Doe|  20|    null|         9|\n",
      "+------+----+--------+----------+\n",
      "\n"
     ]
    }
   ],
   "source": [
    "# conditional drop with 'thresh'\n",
    "# it will check atleast 2(thresh) non null values.if not it will drop\n",
    "df_pyspark.na.drop(how='all',thresh=2).show()"
   ]
  },
  {
   "cell_type": "code",
   "execution_count": 75,
   "metadata": {},
   "outputs": [
    {
     "name": "stdout",
     "output_type": "stream",
     "text": [
      "+------+----+--------+----------+\n",
      "|  Name| Age| Company|SampleRank|\n",
      "+------+----+--------+----------+\n",
      "|   Sai|  30| ABC Inc|         1|\n",
      "| Kumar|  29| DEF INC|         2|\n",
      "|Chetan|  33|Cool INC|         3|\n",
      "|  Bond|null|     PQR|         5|\n",
      "|  John|null|Test INC|         8|\n",
      "+------+----+--------+----------+\n",
      "\n"
     ]
    }
   ],
   "source": [
    "# conditional drop with 'subset'\n",
    "df_pyspark.na.drop(subset=['Company','Name']).show()"
   ]
  },
  {
   "cell_type": "code",
   "execution_count": 76,
   "metadata": {
    "scrolled": true
   },
   "outputs": [
    {
     "name": "stdout",
     "output_type": "stream",
     "text": [
      "+-------+----+--------+----------+\n",
      "|   Name| Age| Company|SampleRank|\n",
      "+-------+----+--------+----------+\n",
      "|    Sai|  30| ABC Inc|         1|\n",
      "|  Kumar|  29| DEF INC|         2|\n",
      "| Chetan|  33|Cool INC|         3|\n",
      "|  James|  26| Missing|         4|\n",
      "|   Bond|null|     PQR|         5|\n",
      "|Missing|  22| Missing|         6|\n",
      "| Cruise|  44| Missing|         7|\n",
      "|   John|null|Test INC|         8|\n",
      "|    Doe|  20| Missing|         9|\n",
      "+-------+----+--------+----------+\n",
      "\n"
     ]
    }
   ],
   "source": [
    "# fill null with some string\n",
    "df_pyspark.na.fill('Missing').show()"
   ]
  },
  {
   "cell_type": "code",
   "execution_count": 77,
   "metadata": {},
   "outputs": [
    {
     "name": "stdout",
     "output_type": "stream",
     "text": [
      "+------------+---+---------------+----------+\n",
      "|        Name|Age|        Company|SampleRank|\n",
      "+------------+---+---------------+----------+\n",
      "|         Sai| 30|        ABC Inc|         1|\n",
      "|       Kumar| 29|        DEF INC|         2|\n",
      "|      Chetan| 33|       Cool INC|         3|\n",
      "|       James| 26|Missing Company|         4|\n",
      "|        Bond| -1|            PQR|         5|\n",
      "|Missing Name| 22|Missing Company|         6|\n",
      "|      Cruise| 44|Missing Company|         7|\n",
      "|        John| -1|       Test INC|         8|\n",
      "|         Doe| 20|Missing Company|         9|\n",
      "+------------+---+---------------+----------+\n",
      "\n"
     ]
    }
   ],
   "source": [
    "# fill null with some string\n",
    "df_pyspark.na.fill({'Age': '-1','Name':'Missing Name','Company':'Missing Company'}).show()"
   ]
  },
  {
   "cell_type": "code",
   "execution_count": 80,
   "metadata": {},
   "outputs": [],
   "source": [
    "# replace with imputed values\n",
    "from pyspark.ml.feature import Imputer\n",
    "imputer = Imputer(\n",
    "    inputCols=['Age','SampleRank'],\n",
    "    outputCols=[\"{}_imputed\".format(c) for c in ['Age','SampleRank']]\n",
    ").setStrategy('mean')"
   ]
  },
  {
   "cell_type": "code",
   "execution_count": 81,
   "metadata": {},
   "outputs": [
    {
     "name": "stdout",
     "output_type": "stream",
     "text": [
      "+------+----+--------+----------+-----------+------------------+\n",
      "|  Name| Age| Company|SampleRank|Age_imputed|SampleRank_imputed|\n",
      "+------+----+--------+----------+-----------+------------------+\n",
      "|   Sai|  30| ABC Inc|         1|         30|                 1|\n",
      "| Kumar|  29| DEF INC|         2|         29|                 2|\n",
      "|Chetan|  33|Cool INC|      null|         33|                 5|\n",
      "| James|  26|    null|         4|         26|                 4|\n",
      "|  Bond|null|     PQR|         5|         29|                 5|\n",
      "|  null|  22|    null|      null|         22|                 5|\n",
      "|Cruise|  44|    null|         7|         44|                 7|\n",
      "|  John|null|Test INC|         8|         29|                 8|\n",
      "|   Doe|  20|    null|         9|         20|                 9|\n",
      "+------+----+--------+----------+-----------+------------------+\n",
      "\n"
     ]
    }
   ],
   "source": [
    "imputer.fit(df_pyspark).transform(df_pyspark).show()"
   ]
  },
  {
   "cell_type": "code",
   "execution_count": null,
   "metadata": {},
   "outputs": [],
   "source": []
  },
  {
   "cell_type": "code",
   "execution_count": null,
   "metadata": {},
   "outputs": [],
   "source": []
  }
 ],
 "metadata": {
  "kernelspec": {
   "display_name": "Python 3",
   "language": "python",
   "name": "python3"
  },
  "language_info": {
   "codemirror_mode": {
    "name": "ipython",
    "version": 3
   },
   "file_extension": ".py",
   "mimetype": "text/x-python",
   "name": "python",
   "nbconvert_exporter": "python",
   "pygments_lexer": "ipython3",
   "version": "3.8.10"
  }
 },
 "nbformat": 4,
 "nbformat_minor": 4
}
